{
 "cells": [
  {
   "cell_type": "markdown",
   "id": "054279a5",
   "metadata": {},
   "source": [
    "# Principal component Analysis(PCA) with python"
   ]
  },
  {
   "cell_type": "code",
   "execution_count": 1,
   "id": "9c8cc9a9",
   "metadata": {},
   "outputs": [],
   "source": [
    "import numpy as np"
   ]
  },
  {
   "cell_type": "code",
   "execution_count": 2,
   "id": "fe3c7ee1",
   "metadata": {},
   "outputs": [],
   "source": [
    "import pandas as pd\n",
    "import matplotlib.pyplot as plt\n",
    "import seaborn as sns\n",
    "sns.set()\n"
   ]
  },
  {
   "cell_type": "code",
   "execution_count": 5,
   "id": "643261b3",
   "metadata": {},
   "outputs": [],
   "source": [
    "from sklearn.decomposition import PCA\n",
    "X = np.random.rand(200,50)\n",
    "    "
   ]
  },
  {
   "cell_type": "code",
   "execution_count": 6,
   "id": "c1732c27",
   "metadata": {},
   "outputs": [
    {
     "data": {
      "text/plain": [
       "PCA()"
      ]
     },
     "execution_count": 6,
     "metadata": {},
     "output_type": "execute_result"
    }
   ],
   "source": [
    "pcaModel = PCA()\n",
    "pcaModel.fit(X)"
   ]
  },
  {
   "cell_type": "code",
   "execution_count": 8,
   "id": "ec1add0e",
   "metadata": {},
   "outputs": [
    {
     "data": {
      "text/plain": [
       "array([0.04293744, 0.08305565, 0.12118984, 0.1571674 , 0.19230997,\n",
       "       0.22643014, 0.25953394, 0.29159481, 0.32290654, 0.35339121,\n",
       "       0.38307804, 0.41143432, 0.4382588 , 0.46404545, 0.4896762 ,\n",
       "       0.51431368, 0.53859353, 0.56178943, 0.58423659, 0.60618678,\n",
       "       0.62690689, 0.64720555, 0.66721651, 0.68674989, 0.70583956,\n",
       "       0.72454986, 0.74219221, 0.75918578, 0.77556744, 0.79118417,\n",
       "       0.80621997, 0.82073649, 0.83459294, 0.84813485, 0.86160387,\n",
       "       0.87463089, 0.88696422, 0.89879293, 0.91022159, 0.92092804,\n",
       "       0.93122636, 0.94102489, 0.950207  , 0.95899967, 0.96736835,\n",
       "       0.97514061, 0.98218582, 0.9885899 , 0.99451447, 1.        ])"
      ]
     },
     "execution_count": 8,
     "metadata": {},
     "output_type": "execute_result"
    }
   ],
   "source": [
    "pcaModel.explained_variance_ratio_.cumsum()\n"
   ]
  },
  {
   "cell_type": "code",
   "execution_count": 9,
   "id": "68a411e7",
   "metadata": {},
   "outputs": [],
   "source": [
    "nc= np.where(pcaModel.explained_variance_ratio_.cumsum()>0.95)[0][0]"
   ]
  },
  {
   "cell_type": "code",
   "execution_count": 10,
   "id": "c31ee6e5",
   "metadata": {},
   "outputs": [
    {
     "data": {
      "text/plain": [
       "42"
      ]
     },
     "execution_count": 10,
     "metadata": {},
     "output_type": "execute_result"
    }
   ],
   "source": [
    "nc"
   ]
  },
  {
   "cell_type": "code",
   "execution_count": 11,
   "id": "06567eaf",
   "metadata": {},
   "outputs": [
    {
     "data": {
      "text/plain": [
       "50"
      ]
     },
     "execution_count": 11,
     "metadata": {},
     "output_type": "execute_result"
    }
   ],
   "source": [
    "pcaModel.n_components_"
   ]
  },
  {
   "cell_type": "code",
   "execution_count": 15,
   "id": "d3fac0b7",
   "metadata": {},
   "outputs": [],
   "source": [
    "def myPCA(energyValue,X):\n",
    "    m = PCA()\n",
    "    m.fit(X)\n",
    "    nc = np.where(m.explained_variance_ratio_.cumsum()>energyValue)[0][0]\n",
    "    m = PCA(n_components=nc)\n",
    "    m.fit(X)\n",
    "    \n",
    "    X2 = m.transform(X)\n",
    "    return X2\n"
   ]
  },
  {
   "cell_type": "code",
   "execution_count": 23,
   "id": "0bb7d60f",
   "metadata": {},
   "outputs": [],
   "source": [
    "X = np.random.rand(200,50)\n",
    "X2=myPCA(0.90,X)"
   ]
  },
  {
   "cell_type": "code",
   "execution_count": 17,
   "id": "b6f647d4",
   "metadata": {},
   "outputs": [
    {
     "data": {
      "text/plain": [
       "(200, 50)"
      ]
     },
     "execution_count": 17,
     "metadata": {},
     "output_type": "execute_result"
    }
   ],
   "source": [
    "X.shape"
   ]
  },
  {
   "cell_type": "code",
   "execution_count": 24,
   "id": "5da14540",
   "metadata": {},
   "outputs": [
    {
     "data": {
      "text/plain": [
       "(200, 37)"
      ]
     },
     "execution_count": 24,
     "metadata": {},
     "output_type": "execute_result"
    }
   ],
   "source": [
    "X2.shape"
   ]
  },
  {
   "cell_type": "code",
   "execution_count": null,
   "id": "598a22c3",
   "metadata": {},
   "outputs": [],
   "source": []
  }
 ],
 "metadata": {
  "kernelspec": {
   "display_name": "Python 3 (ipykernel)",
   "language": "python",
   "name": "python3"
  },
  "language_info": {
   "codemirror_mode": {
    "name": "ipython",
    "version": 3
   },
   "file_extension": ".py",
   "mimetype": "text/x-python",
   "name": "python",
   "nbconvert_exporter": "python",
   "pygments_lexer": "ipython3",
   "version": "3.9.13"
  }
 },
 "nbformat": 4,
 "nbformat_minor": 5
}
